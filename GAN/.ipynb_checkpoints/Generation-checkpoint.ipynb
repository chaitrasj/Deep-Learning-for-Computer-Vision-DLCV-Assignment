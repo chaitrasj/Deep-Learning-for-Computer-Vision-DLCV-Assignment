{
 "cells": [
  {
   "cell_type": "code",
   "execution_count": 1,
   "metadata": {},
   "outputs": [
    {
     "name": "stdout",
     "output_type": "stream",
     "text": [
      "Namespace(b1=0.5, b2=0.999, batch_size=64, channels=1, epochs=200, img_size=28, latent_dim=100, lr=0.0002, name='Generated_images')\n",
      "Number of images belonging to 0 is 1034\n",
      "Number of images belonging to 1 is 1049\n",
      "Number of images belonging to 2 is 1045\n",
      "Number of images belonging to 3 is 1115\n",
      "Number of images belonging to 4 is 1015\n",
      "Number of images belonging to 5 is 867\n",
      "Number of images belonging to 6 is 970\n",
      "Number of images belonging to 7 is 978\n",
      "Number of images belonging to 8 is 874\n",
      "Number of images belonging to 9 is 1053\n"
     ]
    }
   ],
   "source": [
    "import os\n",
    "import random\n",
    "import torch\n",
    "import torchvision.transforms as transforms\n",
    "from torchvision import datasets\n",
    "from torchvision.utils import save_image\n",
    "from torch.utils.data import DataLoader\n",
    "import torch.nn as nn\n",
    "import numpy as np\n",
    "from collections import OrderedDict\n",
    "from torch.nn import init\n",
    "import argparse\n",
    "import matplotlib.pyplot as plt\n",
    "from tensorboardX import SummaryWriter\n",
    "\n",
    "\n",
    "################ HYPER PARAMETERS ###################\n",
    "\n",
    "parser = argparse.ArgumentParser()\n",
    "parser.add_argument(\"--epochs\", type=int, default=200, help=\"number of epochs of training\")\n",
    "parser.add_argument(\"--batch_size\", type=int, default=64, help=\"size of the batches\")\n",
    "parser.add_argument(\"--lr\", type=float, default=0.0002, help=\"learning rate\")\n",
    "parser.add_argument(\"--b1\", type=float, default=0.5, help=\"adam: decay of first order momentum of gradient\")\n",
    "parser.add_argument(\"--b2\", type=float, default=0.999, help=\"adam: decay of first order momentum of gradient\")\n",
    "parser.add_argument(\"--latent_dim\", type=int, default=100, help=\"dimensionality of the latent space\")\n",
    "parser.add_argument(\"--img_size\", type=int, default=28, help=\"size of each image dimension\")\n",
    "parser.add_argument(\"--channels\", type=int, default=1, help=\"number of image channels\")\n",
    "parser.add_argument(\"--name\", type=str, default='Generated_images', help=\"Name of file to save generated images\")\n",
    "opt = parser.parse_args(args=[])\n",
    "print(opt)\n",
    "\n",
    "os.environ['CUDA_VISIBLE_DEVICES']='1'\n",
    "\n",
    "cuda = True if torch.cuda.is_available() else False\n",
    "\n",
    "transform_save = transforms.Compose([\n",
    "        transforms.ToPILImage(),\n",
    "        transforms.Resize(size=32),\n",
    "        transforms.ToTensor()\n",
    "    ])\n",
    "\n",
    "class Generator(nn.Module):\n",
    "    def __init__(self, latent_dim):\n",
    "        super(Generator, self).__init__()\n",
    "\n",
    "        self.init_size = opt.img_size // 4\n",
    "        \n",
    "        self.dense = nn.Sequential(nn.Linear(in_features=latent_dim, out_features=128*(self.init_size**2), bias=True))\n",
    "        self.conv_1 = nn.Sequential(nn.BatchNorm2d(128), nn.ConvTranspose2d(in_channels=128, out_channels=64, kernel_size=4, stride=2, padding=1, bias=True), nn.BatchNorm2d(64), nn.ReLU(inplace=True))\n",
    "        self.conv_2 = nn.Sequential(nn.ConvTranspose2d(in_channels=64, out_channels=64, kernel_size=4, stride=2, padding=1, bias=True), nn.BatchNorm2d(64), nn.ReLU(inplace=True))\n",
    "        self.conv_3 = nn.Sequential(nn.ConvTranspose2d(in_channels=64, out_channels=1, kernel_size=3, stride=1, padding=1, bias=True), nn.Tanh())\n",
    "\n",
    "        \n",
    "    def forward(self, x):\n",
    "        x = self.dense(x)\n",
    "        x = x.view(x.size(0),128 ,self.init_size, self.init_size)\n",
    "        x = self.conv_1(x)\n",
    "        x = self.conv_2(x)\n",
    "        x = self.conv_3(x)\n",
    "        return x\n",
    "\n",
    "class Classifier(nn.Module):\n",
    "    def __init__(self):\n",
    "        super(Classifier, self).__init__()\n",
    "        \n",
    "        self.conv_1 = nn.Sequential(nn.Conv2d(1,32,5,1,0,True), nn.ReLU(), nn.Conv2d(32,32,5,1,0,True), nn.ReLU()) #28->24->20->10\n",
    "        self.maxpool_1 = nn.MaxPool2d(2,2) \n",
    "        self.conv_2 = nn.Sequential(nn.Conv2d(32,64,5,1,0,True), nn.ReLU(), nn.Conv2d(64,64,5,1,0,True), nn.ReLU()) #10->6->2->1\n",
    "        self.maxpool_2 = nn.MaxPool2d(2,2) \n",
    "        self.out = nn.Sequential(nn.Linear(64*(1)**2,512), nn.ReLU(), nn.Linear(512,10))\n",
    "        \n",
    "        \n",
    "    def forward(self,x):\n",
    "        x = self.conv_1(x)\n",
    "        x = self.maxpool_1(x)\n",
    "        x = self.conv_2(x)\n",
    "        x = self.maxpool_2(x)\n",
    "        x = x.view(x.size(0),-1)\n",
    "        x = self.out(x)\n",
    "        return x\n",
    "    \n",
    "generator = Generator(opt.latent_dim)\n",
    "checkpoint = torch.load('1_Model/Models/_150.pth.tar')\n",
    "generator.load_state_dict(checkpoint['generator'])\n",
    "\n",
    "\n",
    "if cuda: \n",
    "    generator.cuda()\n",
    "    Tensor = torch.cuda.FloatTensor \n",
    "else:\n",
    "    Tensor = torch.FloatTensor\n",
    "    \n",
    "z = Tensor(np.random.normal(size = (10000, opt.latent_dim)))\n",
    "gen_samples = generator(z)\n",
    "\n",
    "classifier = Classifier()\n",
    "checkpoint = torch.load('classifier.pth.tar')\n",
    "classifier.load_state_dict(checkpoint['classifier'])\n",
    "if cuda: classifier.cuda()\n",
    "    \n",
    "out_samples = classifier(gen_samples)\n",
    "softmax = nn.Softmax(dim=1)\n",
    "pred_class = softmax(out_samples).max(axis=1)[1]\n",
    "\n",
    "sum_ = 0\n",
    "for i in range (10):\n",
    "    print('Number of images belonging to',i,'is',len(torch.where(pred_class==i)[0]))\n",
    "    sum_+=len(torch.where(pred_class==i)[0])"
   ]
  },
  {
   "cell_type": "code",
   "execution_count": 2,
   "metadata": {},
   "outputs": [
    {
     "data": {
      "image/png": "[encoded data removed]",
      "text/plain": [
       "<Figure size 720x432 with 1 Axes>"
      ]
     },
     "metadata": {
      "needs_background": "light"
     },
     "output_type": "display_data"
    }
   ],
   "source": [
    "counts = np.bincount(pred_class.cpu())\n",
    "\n",
    "fig, ax = plt.subplots(figsize=(10,6))\n",
    "ax.bar(range(10), counts, width=0.8, align='center',facecolor='green')\n",
    "ax.set(xticks=range(10), xlim=[-1, 10])\n",
    "ax.set_title('Distribution of generated digits',fontsize=22)\n",
    "ax.tick_params(labelsize=20)\n",
    "\n",
    "plt.show()"
   ]
  },
  {
   "cell_type": "code",
   "execution_count": 5,
   "metadata": {},
   "outputs": [
    {
     "name": "stdout",
     "output_type": "stream",
     "text": [
      "tensor([3, 9, 9, 7, 5, 2, 3, 2, 0, 6], device='cuda:0')\n"
     ]
    },
    {
     "data": {
      "image/png": "[encoded data removed]",
      "text/plain": [
       "<Figure size 432x288 with 1 Axes>"
      ]
     },
     "metadata": {
      "needs_background": "light"
     },
     "output_type": "display_data"
    }
   ],
   "source": [
    "index = np.random.choice(gen_samples.shape[0], 10, replace=False)  \n",
    "samples = gen_samples[index]\n",
    "out_samples = classifier(samples)\n",
    "samples_pred_class = softmax(out_samples).max(axis=1)[1]\n",
    "print(samples_pred_class)\n",
    "save_image(samples, opt.name+'_%d.png' % 1, nrow=10, normalize=True)\n",
    "im = plt.imread(opt.name+'_%d.png' % 1)\n",
    "plt.imshow(im)\n",
    "plt.show()"
   ]
  }
 ],
 "metadata": {
  "kernelspec": {
   "display_name": "Python 3",
   "language": "python",
   "name": "python3"
  },
  "language_info": {
   "codemirror_mode": {
    "name": "ipython",
    "version": 3
   },
   "file_extension": ".py",
   "mimetype": "text/x-python",
   "name": "python",
   "nbconvert_exporter": "python",
   "pygments_lexer": "ipython3",
   "version": "3.6.6"
  }
 },
 "nbformat": 4,
 "nbformat_minor": 4
}
